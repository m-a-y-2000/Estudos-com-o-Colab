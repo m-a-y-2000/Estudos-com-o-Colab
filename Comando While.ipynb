{
  "nbformat": 4,
  "nbformat_minor": 0,
  "metadata": {
    "colab": {
      "provenance": [],
      "collapsed_sections": [],
      "authorship_tag": "ABX9TyP0VuNchTSy3aq+Kl/9IgjW",
      "include_colab_link": true
    },
    "kernelspec": {
      "name": "python3",
      "display_name": "Python 3"
    },
    "language_info": {
      "name": "python"
    }
  },
  "cells": [
    {
      "cell_type": "markdown",
      "metadata": {
        "id": "view-in-github",
        "colab_type": "text"
      },
      "source": [
        "<a href=\"https://colab.research.google.com/github/m-a-y-2000/Estudos-com-o-Colab/blob/main/Comando%20While.ipynb\" target=\"_parent\"><img src=\"https://colab.research.google.com/assets/colab-badge.svg\" alt=\"Open In Colab\"/></a>"
      ]
    },
    {
      "cell_type": "markdown",
      "source": [
        "**Exercício 1**"
      ],
      "metadata": {
        "id": "zwN3b2497eRx"
      }
    },
    {
      "cell_type": "code",
      "execution_count": null,
      "metadata": {
        "id": "JPZcDLBszWa0"
      },
      "outputs": [],
      "source": [
        "def enquanto():\n",
        "\n",
        "  n = int(input(\"Digite um número (ou 0 para encerrar): \"))\n",
        "  vezes = 0\n",
        "  soma = 0\n",
        "\n",
        "  while(n != 0):\n",
        "    vezes += 1\n",
        "    soma = soma + n\n",
        "    n = int(input(\"Digite um número (ou 0 para encerrar): \"))\n",
        "    \n",
        "  if vezes != 0:\n",
        "    media = soma / vezes\n",
        "    print(\"Quantidade de números digitados: \", vezes, \"\\nSoma: \", soma, \"\\nMédia: \", media)\n",
        "  else:\n",
        "    print(\"Operação encerrada.\")"
      ]
    },
    {
      "cell_type": "code",
      "source": [
        "enquanto()"
      ],
      "metadata": {
        "colab": {
          "base_uri": "https://localhost:8080/"
        },
        "id": "a9W38UYi1CyS",
        "outputId": "b61cfedf-9bc3-4774-a6b8-7206083afe5d"
      },
      "execution_count": null,
      "outputs": [
        {
          "output_type": "stream",
          "name": "stdout",
          "text": [
            "Digite um número (ou 0 para encerrar): 1\n",
            "Digite um número (ou 0 para encerrar): 2\n",
            "Digite um número (ou 0 para encerrar): 0\n",
            "Quantidade de números digitados:  2 \n",
            "Soma:  3 \n",
            "Média:  1.5\n"
          ]
        }
      ]
    },
    {
      "cell_type": "markdown",
      "source": [
        "**Outro jeito:**\n",
        "\n",
        "while True: *# Vai ficar repetindo até algo \"quebrar\"(break)*\n",
        "\n",
        "  n = int(input(\"Digite o valor: \"))\n",
        "\n",
        "  if n == 0:\n",
        "    break\n",
        "    soma = soma + n\n",
        "    vezes += 1\n",
        "\n",
        "  media\n",
        "    "
      ],
      "metadata": {
        "id": "EPgGWC_l6X1U"
      }
    },
    {
      "cell_type": "markdown",
      "source": [
        "**Exercício 2**"
      ],
      "metadata": {
        "id": "dihxdv5hD3Ee"
      }
    },
    {
      "cell_type": "code",
      "source": [
        "def compras():\n",
        "\n",
        "  total = 0\n",
        "\n",
        "  while True:\n",
        "    c = int(input(\"Digite o código do produto (1, 2, 3, 5 ou 9): \"))\n",
        "    if c == 0:\n",
        "      break\n",
        "    elif c != 1 and c != 2 and c!= 3 and c != 5 and c != 9:\n",
        "      print(\"Código incorreto.\")\n",
        "      break\n",
        "    q = int(input(\"Digite a quantidade comprada desse produto: \"))\n",
        "\n",
        "    if c == 1:\n",
        "      total = total + (0.50 * q)\n",
        "    elif c == 2:\n",
        "      total = total + (1.00 * q)\n",
        "    elif c == 3:\n",
        "      total = total + (4.00 * q)\n",
        "    elif c == 5:\n",
        "      total = total + (7.00 * q)\n",
        "    elif c == 9:\n",
        "      total = total + (8.00 * q)\n",
        "\n",
        "  print(\"Valor total: R$\", total)"
      ],
      "metadata": {
        "id": "hV9aW2D576Ys"
      },
      "execution_count": null,
      "outputs": []
    },
    {
      "cell_type": "code",
      "source": [
        "compras()"
      ],
      "metadata": {
        "colab": {
          "base_uri": "https://localhost:8080/"
        },
        "id": "AHWfNA0f_DwO",
        "outputId": "15e2fdac-57f8-438b-d818-a7387fece460"
      },
      "execution_count": null,
      "outputs": [
        {
          "output_type": "stream",
          "name": "stdout",
          "text": [
            "Digite o código do produto (1, 2, 3, 5 ou 9): 8\n",
            "Código incorreto.\n",
            "Valor total: R$ 0\n"
          ]
        }
      ]
    }
  ]
}