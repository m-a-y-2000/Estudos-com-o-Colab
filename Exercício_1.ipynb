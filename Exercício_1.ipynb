{
  "nbformat": 4,
  "nbformat_minor": 0,
  "metadata": {
    "colab": {
      "name": "Exercício 1.ipynb",
      "provenance": [],
      "authorship_tag": "ABX9TyPUB18WhOsmui5egGmgYQPo",
      "include_colab_link": true
    },
    "kernelspec": {
      "name": "python3",
      "display_name": "Python 3"
    },
    "language_info": {
      "name": "python"
    }
  },
  "cells": [
    {
      "cell_type": "markdown",
      "metadata": {
        "id": "view-in-github",
        "colab_type": "text"
      },
      "source": [
        "<a href=\"https://colab.research.google.com/github/m-a-y-2000/Estudos-com-o-Colab/blob/main/Exerc%C3%ADcio_1.ipynb\" target=\"_parent\"><img src=\"https://colab.research.google.com/assets/colab-badge.svg\" alt=\"Open In Colab\"/></a>"
      ]
    },
    {
      "cell_type": "markdown",
      "source": [
        "**Questão 1:**\n",
        "\n",
        "**a.**"
      ],
      "metadata": {
        "id": "kM_pR3hE6rK5"
      }
    },
    {
      "cell_type": "code",
      "execution_count": null,
      "metadata": {
        "id": "PsMNUVZSyzKM"
      },
      "outputs": [],
      "source": [
        "def NovoAndar():\n",
        "  novoAnd = int(input(\"Digite o andar para o qual você quer ir (apenas números): \"))\n",
        "\n",
        "  print(\"Você foi do térreo para o \", novoAnd, \"º andar.\");"
      ]
    },
    {
      "cell_type": "code",
      "source": [
        "NovoAndar()"
      ],
      "metadata": {
        "colab": {
          "base_uri": "https://localhost:8080/"
        },
        "id": "FcLkA9AA3J7N",
        "outputId": "ed72bf4a-8e7b-43b3-8d01-19886e5b8a58"
      },
      "execution_count": null,
      "outputs": [
        {
          "output_type": "stream",
          "name": "stdout",
          "text": [
            "Digite o andar para o qual você quer ir (apenas números): 2\n",
            "Você foi do térreo para o  2 º andar.\n"
          ]
        }
      ]
    },
    {
      "cell_type": "markdown",
      "source": [
        "**b.**"
      ],
      "metadata": {
        "id": "yaiIbN8j7qC5"
      }
    },
    {
      "cell_type": "code",
      "source": [
        "def telefone():\n",
        "  ddd = int(input(\"Digite o DDD: \"))\n",
        "  tel = int(input(\"Digite o telefone: \"))\n",
        "\n",
        "  print(\"Você ligou para o número \", ddd,\" 9 \", tel);"
      ],
      "metadata": {
        "id": "Ts54nP_c7scU"
      },
      "execution_count": null,
      "outputs": []
    },
    {
      "cell_type": "code",
      "source": [
        "telefone()"
      ],
      "metadata": {
        "colab": {
          "base_uri": "https://localhost:8080/"
        },
        "id": "jvJtexX79YX3",
        "outputId": "8d25b462-b893-4d81-8b37-b6a987c79d29"
      },
      "execution_count": null,
      "outputs": [
        {
          "output_type": "stream",
          "name": "stdout",
          "text": [
            "Digite o DDD: 081\n",
            "Digite o telefone: 88005588\n",
            "Você ligou para o número  81  9  88005588\n"
          ]
        }
      ]
    },
    {
      "cell_type": "markdown",
      "source": [
        "**c.**"
      ],
      "metadata": {
        "id": "Q16PThHv96s9"
      }
    },
    {
      "cell_type": "code",
      "source": [
        "def trocarPneu():\n",
        "  pneuF = str(input(\"O pneu do seu carro está furado? \"))\n",
        "\n",
        "  if pneuF == \"sim\" or pneuF == \"Sim\":\n",
        "    trocar = str(input(\"Gostaria de trocá-lo? \"))\n",
        "  elif pneuF == \"não\" or pneuF == \"Não\":\n",
        "    print(\"O pneu do seu carro não está furado e não precisa ser trocado.\");\n",
        "  else:\n",
        "     print(\"Resposta inválida.\");\n",
        "\n",
        "  if trocar == \"sim\" or trocar == \"Sim\":\n",
        "     print(\"O pneu do seu carro furou e acabou de ser trocado.\");\n",
        "  elif trocar == \"não\" or trocar == \"Não\":\n",
        "    print(\"O pneu do seu carro furou e precisa ser trocado.\");\n",
        "  else:\n",
        "     print(\"Resposta inválida.\");"
      ],
      "metadata": {
        "id": "YLhWw1_l98ie"
      },
      "execution_count": null,
      "outputs": []
    },
    {
      "cell_type": "code",
      "source": [
        "trocarPneu()"
      ],
      "metadata": {
        "colab": {
          "base_uri": "https://localhost:8080/"
        },
        "id": "a7L099UJAbfI",
        "outputId": "8fe5d2a8-1e47-40ab-9c34-8435a5801cd2"
      },
      "execution_count": null,
      "outputs": [
        {
          "output_type": "stream",
          "name": "stdout",
          "text": [
            "O pneu do seu carro está furado? Sim\n",
            "Gostaria de trocá-lo? Sim\n",
            "O pneu do seu carro furou e acabou de ser trocado.\n"
          ]
        }
      ]
    },
    {
      "cell_type": "markdown",
      "source": [
        "**d.**"
      ],
      "metadata": {
        "id": "VSrLUAoPByVX"
      }
    },
    {
      "cell_type": "code",
      "source": [
        "def mediaAluno():\n",
        "  nota1 = float(input(\"Digite a primeira nota do aluno: \"))\n",
        "  nota2 = float(input(\"Digite a segunda nota do aluno: \"))\n",
        "  nota3 = float(input(\"Digite a terceira nota do aluno: \"))\n",
        "\n",
        "  mediaf = (nota1 + nota2 + nota3) / 3\n",
        "\n",
        "  if mediaf >= 7.0:\n",
        "     print(\"O aluno foi aprovado com \", mediaf);\n",
        "  elif mediaf < 7.0:\n",
        "     print(\"O aluno foi reprovado com \", mediaf);\n",
        "  else:\n",
        "     print(\"Resultado inválido.\");"
      ],
      "metadata": {
        "id": "wuNOMayABzo_"
      },
      "execution_count": null,
      "outputs": []
    },
    {
      "cell_type": "code",
      "source": [
        "mediaAluno()"
      ],
      "metadata": {
        "colab": {
          "base_uri": "https://localhost:8080/"
        },
        "id": "eVVnEGqXRdTN",
        "outputId": "92e324b4-0262-4fb3-f702-4ddfa43ff7bc"
      },
      "execution_count": null,
      "outputs": [
        {
          "output_type": "stream",
          "name": "stdout",
          "text": [
            "Digite a primeira nota do aluno: 7.0\n",
            "Digite a segunda nota do aluno: 8.0\n",
            "Digite a terceira nota do aluno: 6.0\n",
            "O aluno foi aprovado com  7.0\n"
          ]
        }
      ]
    },
    {
      "cell_type": "markdown",
      "source": [
        "**Questão 2:**"
      ],
      "metadata": {
        "id": "x9mI1ZWESKAP"
      }
    },
    {
      "cell_type": "code",
      "source": [
        "def OpAritmetica():\n",
        "  num1 = float(input(\"Digite o primeiro valor: \"))\n",
        "  num2 = float(input(\"Digite o segundo valor: \"))\n",
        "  op = str(input(\"Digite a operação ( + | - | * | / ): \"))\n",
        "\n",
        "  if op == \"+\":\n",
        "    calc = num1 + num2\n",
        "  elif op == \"-\":\n",
        "    calc = num1 - num2\n",
        "  elif op == \"*\":\n",
        "    calc = num1 * num2\n",
        "  elif op == \"/\":\n",
        "    calc = num1 / num2\n",
        "  else:\n",
        "    print(\"Valores inválidos.\")\n",
        "    return;\n",
        "\n",
        "  print(\"O resultado da operação é: \", calc);"
      ],
      "metadata": {
        "id": "v9X76McBSLu9"
      },
      "execution_count": null,
      "outputs": []
    },
    {
      "cell_type": "code",
      "source": [
        "OpAritmetica()"
      ],
      "metadata": {
        "colab": {
          "base_uri": "https://localhost:8080/"
        },
        "id": "Oe4scNb5Uvnv",
        "outputId": "febdd000-d60b-4de8-9fc5-8a3e176fef41"
      },
      "execution_count": null,
      "outputs": [
        {
          "output_type": "stream",
          "name": "stdout",
          "text": [
            "Digite o primeiro valor: 7\n",
            "Digite o segundo valor: 5\n",
            "Digite a operação ( + | - | * | / ): /\n",
            "O resultado da operação é:  1.4\n"
          ]
        }
      ]
    },
    {
      "cell_type": "markdown",
      "source": [
        "**Questão 3:**"
      ],
      "metadata": {
        "id": "MF3AzNT7VtRR"
      }
    },
    {
      "cell_type": "code",
      "source": [
        "def letraA():\n",
        "  A = not(((3%2)<=2) and ((3*2)%2) and ((not(7==8) or not((3%2)<=2)) or ((3*2)%2)) or (not((3%2)<=2) or (7==8)))\n",
        "\n",
        "  print(\"Imprimir \", A);"
      ],
      "metadata": {
        "id": "Yx_GheP0VvJw"
      },
      "execution_count": null,
      "outputs": []
    },
    {
      "cell_type": "code",
      "source": [
        "letraA()"
      ],
      "metadata": {
        "colab": {
          "base_uri": "https://localhost:8080/"
        },
        "id": "7XDD0hDq45Tp",
        "outputId": "c7c0e389-cb7a-4e2c-d09e-cbae8f1fbf52"
      },
      "execution_count": null,
      "outputs": [
        {
          "output_type": "stream",
          "name": "stdout",
          "text": [
            "Imprimir  True\n"
          ]
        }
      ]
    },
    {
      "cell_type": "markdown",
      "source": [
        "**Questão 4:**"
      ],
      "metadata": {
        "id": "DGznzpsW7zlH"
      }
    },
    {
      "cell_type": "code",
      "source": [
        "def velocidade():\n",
        "  carroV = float(input(\"Digite a velocidade do seu carro: \"))\n",
        "\n",
        "  if carroV > 80.0:\n",
        "    multa = (carroV - 80.0) * 5.0\n",
        "    print(\"O seu carro ultrapassou o limite de 80km e o valor da sua multa é R$\", multa);\n",
        "  else:\n",
        "    print(\"O seu carro está dentro do limite permitido.\");"
      ],
      "metadata": {
        "id": "a1mmA38672lU"
      },
      "execution_count": null,
      "outputs": []
    },
    {
      "cell_type": "code",
      "source": [
        "velocidade()"
      ],
      "metadata": {
        "colab": {
          "base_uri": "https://localhost:8080/"
        },
        "id": "VPfWe41sDZlX",
        "outputId": "912c61f5-3df6-421e-91a2-2daf92855ead"
      },
      "execution_count": null,
      "outputs": [
        {
          "output_type": "stream",
          "name": "stdout",
          "text": [
            "Digite a velocidade do seu carro: 81\n",
            "O seu carro ultrapassou o limite de 80km e o valor da sua multa é R$ 5.0\n"
          ]
        }
      ]
    },
    {
      "cell_type": "markdown",
      "source": [
        "**Questão 5:**"
      ],
      "metadata": {
        "id": "kKLBX6R0DoiZ"
      }
    },
    {
      "cell_type": "code",
      "source": [
        "def salarioNovo():\n",
        "  salario = float(input(\"Digite o seu salário: \"))\n",
        "\n",
        "  if salario > 1250.0:\n",
        "    aumento = (salario * 10) / 100\n",
        "    perc = 10\n",
        "    novoSal = salario + aumento\n",
        "  else:\n",
        "    aumento = (salario * 15) / 100\n",
        "    perc = 15\n",
        "    novoSal = salario + aumento\n",
        "\n",
        "  print(\"O seu salário recebeu um aumento de \", perc, \"% e agora é R$\", novoSal);"
      ],
      "metadata": {
        "id": "ofvmS08dDssW"
      },
      "execution_count": null,
      "outputs": []
    },
    {
      "cell_type": "code",
      "source": [
        "salarioNovo()"
      ],
      "metadata": {
        "colab": {
          "base_uri": "https://localhost:8080/"
        },
        "id": "WSI-dKmiGjQJ",
        "outputId": "213907e7-8b91-4281-a5e4-ce808840ca1b"
      },
      "execution_count": null,
      "outputs": [
        {
          "output_type": "stream",
          "name": "stdout",
          "text": [
            "Digite o seu salário: 900\n",
            "O seu salário recebeu um aumento de  15 % e agora é R$ 1035.0\n"
          ]
        }
      ]
    },
    {
      "cell_type": "markdown",
      "source": [
        "**Questão 6:**"
      ],
      "metadata": {
        "id": "KMgzQbZGHyII"
      }
    },
    {
      "cell_type": "code",
      "source": [
        "def viagem():\n",
        "  distancia = float(input(\"Digite a distância que você deseja percorrer em sua viagem: \"))\n",
        "\n",
        "  if distancia > 200.0:\n",
        "    valorD = distancia * 0.45\n",
        "  else:\n",
        "    valorD = distancia * 0.50\n",
        "\n",
        "  print(\"O preço da sua passagem é R$\", valorD);"
      ],
      "metadata": {
        "id": "o0O_EC_mH1Rg"
      },
      "execution_count": null,
      "outputs": []
    },
    {
      "cell_type": "code",
      "source": [
        "viagem()"
      ],
      "metadata": {
        "colab": {
          "base_uri": "https://localhost:8080/"
        },
        "id": "oBx0Fc4TOHf7",
        "outputId": "10b38743-6846-4082-a06f-7bad15d6c605"
      },
      "execution_count": null,
      "outputs": [
        {
          "output_type": "stream",
          "name": "stdout",
          "text": [
            "Digite a distância que você deseja percorrer em sua viagem: 205\n",
            "O preço da sua passagem é R$ 92.25\n"
          ]
        }
      ]
    },
    {
      "cell_type": "markdown",
      "source": [
        "**Questão 7:** respondida na *questão 2*"
      ],
      "metadata": {
        "id": "RFnI4Td7Omlj"
      }
    },
    {
      "cell_type": "markdown",
      "source": [
        "**Questão 8:**"
      ],
      "metadata": {
        "id": "ZwUFqTX9PHiA"
      }
    },
    {
      "cell_type": "code",
      "source": [
        "def salarioCorretor():\n",
        "  salarioC = float(input(\"Digite o seu salário: \"))\n",
        "  codCargo = int(input(\"Digite o código do seu cargo: \"))\n",
        "\n",
        "  if codCargo == 91:\n",
        "    aum = (salarioC * 10) / 100\n",
        "    salNovo = salarioC + aum\n",
        "\n",
        "  elif codCargo == 92:\n",
        "    aum = (salarioC * 20) / 100\n",
        "    salNovo = salarioC + aum\n",
        "\n",
        "  elif codCargo == 93:\n",
        "    aum = (salarioC * 30) / 100\n",
        "    salNovo = salarioC + aum\n",
        "\n",
        "  else:\n",
        "    print(\"Informação inválida.\")\n",
        "    return;\n",
        "\n",
        "  print(\"O seu salário era R$\", salarioC, \", recebeu um aumento de R$\", aum, \" e agora é R$\", salNovo);"
      ],
      "metadata": {
        "id": "wKCAlxP2PJvS"
      },
      "execution_count": null,
      "outputs": []
    },
    {
      "cell_type": "code",
      "source": [
        "salarioCorretor()"
      ],
      "metadata": {
        "colab": {
          "base_uri": "https://localhost:8080/"
        },
        "id": "5bIKfDv-WK-m",
        "outputId": "967e850e-31db-4f51-c073-5907a5af1a5d"
      },
      "execution_count": null,
      "outputs": [
        {
          "output_type": "stream",
          "name": "stdout",
          "text": [
            "Digite o seu salário: 1000\n",
            "Digite o código do seu cargo: 93\n",
            "O seu salário era R$ 1000.0 , recebeu um aumento de R$ 300.0  e agora é R$ 1300.0\n"
          ]
        }
      ]
    },
    {
      "cell_type": "markdown",
      "source": [
        "**Questão 9:**"
      ],
      "metadata": {
        "id": "z59SirV5Y9R4"
      }
    },
    {
      "cell_type": "code",
      "source": [
        "def macasCompradas():\n",
        "  macas = int(input(\"Digite a quantidade de maçãs que deseja comprar: \"))\n",
        "\n",
        "  if macas < 12:\n",
        "    macasCusto = macas * 1.3\n",
        "  else:\n",
        "     macasCusto = macas * 1.0\n",
        "\n",
        "  print(\"O total da compra de maçãs é R$\", macasCusto);"
      ],
      "metadata": {
        "id": "DIMfa3iVY_lp"
      },
      "execution_count": null,
      "outputs": []
    },
    {
      "cell_type": "code",
      "source": [
        "macasCompradas()"
      ],
      "metadata": {
        "colab": {
          "base_uri": "https://localhost:8080/"
        },
        "id": "g0yfS5uaVNdT",
        "outputId": "e1b82fbf-5ff9-4373-b5fa-bd937e821ede"
      },
      "execution_count": null,
      "outputs": [
        {
          "output_type": "stream",
          "name": "stdout",
          "text": [
            "Digite a quantidade de maçãs que deseja comprar: 10\n",
            "O total da compra de maçãs é R$ 13.0\n"
          ]
        }
      ]
    },
    {
      "cell_type": "markdown",
      "source": [
        "**Questão 10:**"
      ],
      "metadata": {
        "id": "dXE2OjQUVi9f"
      }
    },
    {
      "cell_type": "code",
      "source": [
        "def comissao():\n",
        "  salFixo = float(input(\"Digite o seu salário fixo: \"))\n",
        "  vendas = float(input(\"Digite o valor total das vendas: \"))\n",
        "\n",
        "  if vendas <= 1500.0:\n",
        "    valorComiss = (vendas * 3) / 100\n",
        "    salFinal = salFixo + valorComiss\n",
        "  elif vendas > 1500.0:\n",
        "    valorComiss = (vendas * 5) / 100\n",
        "    salFinal = salFixo + valorComiss\n",
        "  else:\n",
        "      print(\"Valores inválidos.\")\n",
        "      return;\n",
        "\n",
        "  print(\"O seu salário final é R$\", salFinal);"
      ],
      "metadata": {
        "id": "lzoD8IywVlYt"
      },
      "execution_count": null,
      "outputs": []
    },
    {
      "cell_type": "code",
      "source": [
        "comissao()"
      ],
      "metadata": {
        "colab": {
          "base_uri": "https://localhost:8080/"
        },
        "id": "jbr4enJcYklO",
        "outputId": "5fdaab88-7b18-490e-d450-a0eb5a19b762"
      },
      "execution_count": null,
      "outputs": [
        {
          "output_type": "stream",
          "name": "stdout",
          "text": [
            "Digite o seu salário fixo: 4000\n",
            "Digite o valor total das vendas: 2000\n",
            "O seu salário final é R$ 4100.0\n"
          ]
        }
      ]
    },
    {
      "cell_type": "markdown",
      "source": [
        "**Questão 11:**"
      ],
      "metadata": {
        "id": "J5nRWKBZZDYv"
      }
    },
    {
      "cell_type": "code",
      "source": [
        "def vendaFrutas():\n",
        "  morango = float(input(\"Digite a quantidade adquirida de morangos (em kg): \"))\n",
        "  maca = float(input(\"Digite a quantidade adquirida de maçãs (em kg): \"))\n",
        "\n",
        "  if morango <= 5.0:\n",
        "    custoFrutas = morango * 2.5\n",
        "  elif morango > 5.0:\n",
        "    custoFrutas = morango * 2.2\n",
        "  else:\n",
        "      print(\"Valores inválidos.\")\n",
        "      return;\n",
        "\n",
        "  if maca <= 5.0:\n",
        "    custoFrutas = custoFrutas + (maca * 1.8)\n",
        "  elif maca > 5.0:\n",
        "    custoFrutas = custoFrutas + (maca * 1.5)\n",
        "  else:\n",
        "      print(\"Valores inválidos.\")\n",
        "      return;\n",
        "\n",
        "  if (morango + maca) > 8.0:\n",
        "    descFrutas = (custoFrutas * 10) / 100\n",
        "    custoFrutas = custoFrutas - descFrutas\n",
        "  else:\n",
        "      if custoFrutas > 25.0:\n",
        "        descFrutas = (custoFrutas * 10) / 100\n",
        "        custoFrutas = custoFrutas - descFrutas\n",
        "\n",
        "  print(\"O valor final da sua compra é R$\", custoFrutas);"
      ],
      "metadata": {
        "id": "WRZrI1JwZFER"
      },
      "execution_count": null,
      "outputs": []
    },
    {
      "cell_type": "code",
      "source": [
        "vendaFrutas()"
      ],
      "metadata": {
        "colab": {
          "base_uri": "https://localhost:8080/"
        },
        "id": "5APPW535cee0",
        "outputId": "305b2b0e-1b7f-4a90-d136-32fc3e87ec33"
      },
      "execution_count": null,
      "outputs": [
        {
          "output_type": "stream",
          "name": "stdout",
          "text": [
            "Digite a quantidade adquirida de morangos (em kg): 2\n",
            "Digite a quantidade adquirida de maçãs (em kg): 7\n",
            "O valor final da sua compra é R$ 13.95\n"
          ]
        }
      ]
    },
    {
      "cell_type": "markdown",
      "source": [
        "**Questão 12:**"
      ],
      "metadata": {
        "id": "t_4aQ_kUhUy6"
      }
    },
    {
      "cell_type": "code",
      "source": [
        "def inss():\n",
        "  valorSal = float(input(\"Digite o seu salário: \"))\n",
        "\n",
        "  if valorSal <= 1399.12:\n",
        "    inssDesc = (valorSal * 8) / 100\n",
        "  elif (valorSal > 1399.12) and (valorSal <= 2331.88):\n",
        "    inssDesc = (valorSal * 9) / 100\n",
        "  elif (valorSal > 2331.88) and (valorSal <= 4663.75):\n",
        "    inssDesc = (valorSal * 11) / 100\n",
        "  else:\n",
        "      print(\"Isento.\")\n",
        "      return;\n",
        "\n",
        "  print(\"A sua contribuição é de R$\", inssDesc);"
      ],
      "metadata": {
        "id": "Ps2WToRhhW6J"
      },
      "execution_count": null,
      "outputs": []
    },
    {
      "cell_type": "code",
      "source": [
        "inss()"
      ],
      "metadata": {
        "colab": {
          "base_uri": "https://localhost:8080/"
        },
        "id": "EXyJmGkQjZFi",
        "outputId": "129da070-cbe2-436d-9145-8dbe68ab18b5"
      },
      "execution_count": null,
      "outputs": [
        {
          "output_type": "stream",
          "name": "stdout",
          "text": [
            "Digite o seu salário: 2000\n",
            "A sua contribuição é de R$ 180.0\n"
          ]
        }
      ]
    },
    {
      "cell_type": "markdown",
      "source": [
        "**Questão 13:**"
      ],
      "metadata": {
        "id": "OJjprWdjjuq3"
      }
    },
    {
      "cell_type": "code",
      "source": [
        "def carro():\n",
        "  tempoViagem = float(input(\"Digite o tempo de viagem (em horas): \"))\n",
        "  velocidade = float(input(\"Digite a velocidade média (em km/h): \"))\n",
        "  consumo = float(input(\"Digite o consumo médio do veículo (em km/l): \"))\n",
        "  combustivel = float(input(\"Digite a capacidade do tanque de combustível (considerando a reserva): \"))\n",
        "\n",
        "  #Autonomia e Distância\n",
        "  kmRodados = velocidade * tempoViagem\n",
        "\n",
        "  #Consumo\n",
        "  consumoLitros = kmRodados / consumo\n",
        "  Sreserva = combustivel - 5.0\n",
        "\n",
        "  if (consumoLitros >= Sreserva) and (consumoLitros <= combustivel):\n",
        "    print(\"ATENÇÃO! Está acabando o combustível e a quantidade de litros restante no tanque.\");\n",
        "  elif (consumoLitros > combustivel):\n",
        "    tanque = consumoLitros / combustivel\n",
        "    print(\"ATENÇÃO! O combustível acabou. \", tanque, \" tanques de combustível foram gastos durante a viagem.\");\n",
        "  else:\n",
        "    restLitros = combustivel - consumoLitros\n",
        "    print(consumoLitros, \" litros foram gastos durante a viagem e \", restLitros, \" é a quantidade de litros restante no tanque.\");\n",
        "\n",
        "  print(\" A autonomia do carro é \", consumo, \"km/l, a distância percorrida foi \", kmRodados, \"km e o consumo da viagem em litros foi\", consumoLitros, \"l.\");"
      ],
      "metadata": {
        "id": "HaBdDxerjwFA"
      },
      "execution_count": 6,
      "outputs": []
    },
    {
      "cell_type": "code",
      "source": [
        "carro()"
      ],
      "metadata": {
        "colab": {
          "base_uri": "https://localhost:8080/"
        },
        "id": "1xCpO1O-7FtL",
        "outputId": "473222e2-66c8-4d92-c607-38c9cde5afee"
      },
      "execution_count": 7,
      "outputs": [
        {
          "output_type": "stream",
          "name": "stdout",
          "text": [
            "Digite o tempo de viagem (em horas): 6.0\n",
            "Digite a velocidade média (em km/h): 70.0\n",
            "Digite o consumo médio do veículo (em km/l): 20.0\n",
            "Digite a capacidade do tanque de combustível (considerando a reserva): 100.0\n",
            "21.0  litros foram gastos durante a viagem e  79.0  é a quantidade de litros restante no tanque.\n",
            " A autonomia do carro é  20.0 km/l, a distância percorrida foi  420.0 km e o consumo da viagem em litros foi 21.0 l.\n"
          ]
        }
      ]
    }
  ]
}