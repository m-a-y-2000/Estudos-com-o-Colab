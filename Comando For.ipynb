{
  "nbformat": 4,
  "nbformat_minor": 0,
  "metadata": {
    "colab": {
      "provenance": [],
      "authorship_tag": "ABX9TyNLoZ1KS/hAWL12H1fhhT4p",
      "include_colab_link": true
    },
    "kernelspec": {
      "name": "python3",
      "display_name": "Python 3"
    },
    "language_info": {
      "name": "python"
    }
  },
  "cells": [
    {
      "cell_type": "markdown",
      "metadata": {
        "id": "view-in-github",
        "colab_type": "text"
      },
      "source": [
        "<a href=\"https://colab.research.google.com/github/m-a-y-2000/Estudos-com-o-Colab/blob/main/Comando%20For.ipynb\" target=\"_parent\"><img src=\"https://colab.research.google.com/assets/colab-badge.svg\" alt=\"Open In Colab\"/></a>"
      ]
    },
    {
      "cell_type": "code",
      "execution_count": 5,
      "metadata": {
        "id": "w4KizJdt_CIe"
      },
      "outputs": [],
      "source": [
        "def divisor():\n",
        "\n",
        "  for i1 in range(3): # i1 será 0, 1 e 2\n",
        "    num = int(input(\"Digite um número: \"))\n",
        "    for i2 in range(1,num+1): # inclui o próprio número\n",
        "      if (num % i2 == 0):\n",
        "        print(\"Divisor de \", num ,\": \", i2)"
      ]
    },
    {
      "cell_type": "code",
      "source": [
        "divisor()"
      ],
      "metadata": {
        "colab": {
          "base_uri": "https://localhost:8080/"
        },
        "id": "bXvpGL3KCj_W",
        "outputId": "fc5f3885-bbd5-485e-ee39-5acb60519b49"
      },
      "execution_count": 6,
      "outputs": [
        {
          "output_type": "stream",
          "name": "stdout",
          "text": [
            "Digite um número: 9\n",
            "Divisor de  9 :  1\n",
            "Divisor de  9 :  3\n",
            "Divisor de  9 :  9\n",
            "Digite um número: 2\n",
            "Divisor de  2 :  1\n",
            "Divisor de  2 :  2\n",
            "Digite um número: 6\n",
            "Divisor de  6 :  1\n",
            "Divisor de  6 :  2\n",
            "Divisor de  6 :  3\n",
            "Divisor de  6 :  6\n"
          ]
        }
      ]
    },
    {
      "cell_type": "code",
      "source": [
        "def somamedia():\n",
        "  soma = 0\n",
        "\n",
        "  for i in range(10):\n",
        "    num = float(input(\"Digite um número: \"))\n",
        "    soma = soma + num # ou soma += num\n",
        "\n",
        "  media = soma / 10\n",
        "  print(\"Soma: \", soma, \"\\nMédia: \", media)"
      ],
      "metadata": {
        "id": "cYmsfMSxGZnF"
      },
      "execution_count": 13,
      "outputs": []
    },
    {
      "cell_type": "code",
      "source": [
        "somamedia()"
      ],
      "metadata": {
        "colab": {
          "base_uri": "https://localhost:8080/"
        },
        "id": "pQBKcaBXHPiT",
        "outputId": "7b7aedd9-70fd-42b9-ed1f-55466d1386a0"
      },
      "execution_count": 14,
      "outputs": [
        {
          "output_type": "stream",
          "name": "stdout",
          "text": [
            "Digite um número: 1\n",
            "Digite um número: 2\n",
            "Digite um número: 3\n",
            "Digite um número: 4\n",
            "Digite um número: 5\n",
            "Digite um número: 6\n",
            "Digite um número: 7\n",
            "Digite um número: 8\n",
            "Digite um número: 9\n",
            "Digite um número: 10\n",
            "Soma:  55.0 \n",
            "Média:  5.5\n"
          ]
        }
      ]
    }
  ]
}