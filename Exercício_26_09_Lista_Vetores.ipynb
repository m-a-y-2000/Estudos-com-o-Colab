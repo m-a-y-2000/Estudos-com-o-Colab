{
  "nbformat": 4,
  "nbformat_minor": 0,
  "metadata": {
    "colab": {
      "provenance": [],
      "authorship_tag": "ABX9TyM04sG9sl+ox854BJddJKKa",
      "include_colab_link": true
    },
    "kernelspec": {
      "name": "python3",
      "display_name": "Python 3"
    },
    "language_info": {
      "name": "python"
    }
  },
  "cells": [
    {
      "cell_type": "markdown",
      "metadata": {
        "id": "view-in-github",
        "colab_type": "text"
      },
      "source": [
        "<a href=\"https://colab.research.google.com/github/m-a-y-2000/Estudos-com-o-Colab/blob/main/Exerc%C3%ADcio_26_09_Lista_Vetores.ipynb\" target=\"_parent\"><img src=\"https://colab.research.google.com/assets/colab-badge.svg\" alt=\"Open In Colab\"/></a>"
      ]
    },
    {
      "cell_type": "code",
      "execution_count": null,
      "metadata": {
        "id": "ryhF9_38HldU"
      },
      "outputs": [],
      "source": [
        "def lista_1():\n",
        "\n",
        "  listaGeral = []\n",
        "  listaPAR = []\n",
        "  listaIMPAR = []\n",
        "\n",
        "  for i in range(5):\n",
        "    num = int(input(\"Digite um número: \"))\n",
        "    listaGeral.append(num)\n",
        "    if (num % 2 == 0):\n",
        "      listaPAR.append(num)\n",
        "    else:\n",
        "      listaIMPAR.append(num)\n",
        "\n",
        "  print(\"Lista geral: \", listaGeral, \"\\nLista par: \", listaPAR, \"\\nLista ímpar: \", listaIMPAR)"
      ]
    },
    {
      "cell_type": "code",
      "source": [
        "lista_1()"
      ],
      "metadata": {
        "colab": {
          "base_uri": "https://localhost:8080/"
        },
        "id": "YS20vftGJTiJ",
        "outputId": "b7be50ce-bec0-4475-8661-e3cebdf89d2b"
      },
      "execution_count": null,
      "outputs": [
        {
          "output_type": "stream",
          "name": "stdout",
          "text": [
            "Digite um número: 1\n",
            "Digite um número: 2\n",
            "Digite um número: 3\n",
            "Digite um número: 4\n",
            "Digite um número: 5\n",
            "Lista geral:  [1, 2, 3, 4, 5] \n",
            "Lista par:  [2, 4] \n",
            "Lista ímpar:  [1, 3, 5]\n"
          ]
        }
      ]
    },
    {
      "cell_type": "code",
      "source": [
        "def media():\n",
        "\n",
        "  listaMedia = []\n",
        "\n",
        "  for i in range(4):\n",
        "    nota1 = float(input(\"Digite a nota 1 do aluno: \"))\n",
        "    nota2 = float(input(\"Digite a nota 2 do aluno: \"))\n",
        "    nota3 = float(input(\"Digite a nota 3 do aluno: \"))\n",
        "    nota4 = float(input(\"Digite a nota 4 do aluno: \"))\n",
        "\n",
        "    media = (nota1 + nota2 + nota3 + nota4) / 4\n",
        "    if media >= 7.0:\n",
        "      listaMedia.append(media)\n",
        "\n",
        "  q = len(listaMedia)\n",
        "  print(\"Quantidade de alunos aprovados: \", q)\n"
      ],
      "metadata": {
        "id": "qeVkOdSWJ8mw"
      },
      "execution_count": null,
      "outputs": []
    },
    {
      "cell_type": "code",
      "source": [
        "media()"
      ],
      "metadata": {
        "colab": {
          "base_uri": "https://localhost:8080/"
        },
        "id": "hVl7JEdELovw",
        "outputId": "ec6fd949-bb7a-46ba-e7bd-1bc48c62e961"
      },
      "execution_count": null,
      "outputs": [
        {
          "output_type": "stream",
          "name": "stdout",
          "text": [
            "Digite a nota 1 do aluno: 7\n",
            "Digite a nota 2 do aluno: 6\n",
            "Digite a nota 3 do aluno: 8\n",
            "Digite a nota 4 do aluno: 10\n",
            "Digite a nota 1 do aluno: 1\n",
            "Digite a nota 2 do aluno: 5\n",
            "Digite a nota 3 do aluno: 4\n",
            "Digite a nota 4 do aluno: 2\n",
            "Digite a nota 1 do aluno: 6\n",
            "Digite a nota 2 do aluno: 7\n",
            "Digite a nota 3 do aluno: 8\n",
            "Digite a nota 4 do aluno: 9\n",
            "Digite a nota 1 do aluno: 4\n",
            "Digite a nota 2 do aluno: 2\n",
            "Digite a nota 3 do aluno: 3\n",
            "Digite a nota 4 do aluno: 9\n",
            "Quantidade de alunos aprovados:  2\n"
          ]
        }
      ]
    }
  ]
}